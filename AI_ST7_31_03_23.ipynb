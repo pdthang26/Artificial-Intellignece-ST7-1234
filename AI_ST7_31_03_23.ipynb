{
  "nbformat": 4,
  "nbformat_minor": 0,
  "metadata": {
    "colab": {
      "provenance": [],
      "authorship_tag": "ABX9TyONEUDsCCDTEiMg2QeUo9FZ",
      "include_colab_link": true
    },
    "kernelspec": {
      "name": "python3",
      "display_name": "Python 3"
    },
    "language_info": {
      "name": "python"
    }
  },
  "cells": [
    {
      "cell_type": "markdown",
      "metadata": {
        "id": "view-in-github",
        "colab_type": "text"
      },
      "source": [
        "<a href=\"https://colab.research.google.com/github/pdthang26/Artificial-Intellignece-ST7-1234/blob/main/AI_ST7_31_03_23.ipynb\" target=\"_parent\"><img src=\"https://colab.research.google.com/assets/colab-badge.svg\" alt=\"Open In Colab\"/></a>"
      ]
    },
    {
      "cell_type": "code",
      "execution_count": null,
      "metadata": {
        "id": "KMif6HcBLNEN"
      },
      "outputs": [],
      "source": [
        "from keras.datasets import mnist\n",
        "(train_images, train_labels ), (test_images, test_labels)= mnist.load_data()"
      ]
    },
    {
      "cell_type": "code",
      "source": [
        "train_images.shape"
      ],
      "metadata": {
        "colab": {
          "base_uri": "https://localhost:8080/"
        },
        "id": "spF8tYD5PFZI",
        "outputId": "3497992c-136f-42b9-a0f9-5ad71c3701d6"
      },
      "execution_count": null,
      "outputs": [
        {
          "output_type": "execute_result",
          "data": {
            "text/plain": [
              "(60000, 28, 28)"
            ]
          },
          "metadata": {},
          "execution_count": 74
        }
      ]
    },
    {
      "cell_type": "code",
      "source": [
        "train_labels.shape"
      ],
      "metadata": {
        "colab": {
          "base_uri": "https://localhost:8080/"
        },
        "id": "zKFEn-2NPaon",
        "outputId": "26ccac79-f713-4b5e-b04d-46f724ee1d4e"
      },
      "execution_count": null,
      "outputs": [
        {
          "output_type": "execute_result",
          "data": {
            "text/plain": [
              "(60000,)"
            ]
          },
          "metadata": {},
          "execution_count": 75
        }
      ]
    },
    {
      "cell_type": "code",
      "source": [
        "import matplotlib.pyplot as plt\n",
        "digit = train_images[26]\n",
        "plt. imshow(digit, cmap = plt.cm.binary)\n",
        "plt.show()\n",
        "print('so:', train_labels[26])"
      ],
      "metadata": {
        "colab": {
          "base_uri": "https://localhost:8080/",
          "height": 447
        },
        "id": "nhsgr5QgPvcx",
        "outputId": "40a6c584-7d67-42a5-9a4c-b73edd2e2b6d"
      },
      "execution_count": null,
      "outputs": [
        {
          "output_type": "display_data",
          "data": {
            "text/plain": [
              "<Figure size 640x480 with 1 Axes>"
            ],
            "image/png": "[encoded data removed]"
          },
          "metadata": {}
        },
        {
          "output_type": "stream",
          "name": "stdout",
          "text": [
            "so: 4\n"
          ]
        }
      ]
    },
    {
      "cell_type": "code",
      "source": [
        "for i in range (15):\n",
        "  plt.subplot(3,5,i+1)\n",
        "  plt.tight_layout()\n",
        "  plt.imshow(train_images[i], cmap= 'gray',interpolation='none')\n",
        "  plt.title('so:{} '.format(train_labels[i]))\n",
        "  plt.xticks([])\n",
        "  plt.yticks([])"
      ],
      "metadata": {
        "colab": {
          "base_uri": "https://localhost:8080/",
          "height": 480
        },
        "id": "_SIN-_-rRXNk",
        "outputId": "f71ccd76-09d4-4e01-e1a5-44a4d47dadb3"
      },
      "execution_count": null,
      "outputs": [
        {
          "output_type": "stream",
          "name": "stderr",
          "text": [
            "<ipython-input-77-659b11a0e806>:2: MatplotlibDeprecationWarning: Auto-removal of overlapping axes is deprecated since 3.6 and will be removed two minor releases later; explicitly call ax.remove() as needed.\n",
            "  plt.subplot(3,5,i+1)\n"
          ]
        },
        {
          "output_type": "display_data",
          "data": {
            "text/plain": [
              "<Figure size 640x480 with 14 Axes>"
            ],
            "image/png": "[encoded data removed]"
          },
          "metadata": {}
        }
      ]
    },
    {
      "cell_type": "code",
      "source": [
        "from keras.models import Sequential\n",
        "from keras.layers import Dense\n",
        "\n",
        "model = Sequential()\n",
        "model.add(Dense(512,activation = 'relu', input_shape = (28*28,)))\n",
        "model.add(Dense(10,activation = 'softmax'))\n",
        "model.summary()"
      ],
      "metadata": {
        "colab": {
          "base_uri": "https://localhost:8080/"
        },
        "id": "qUqfqDEoSpXt",
        "outputId": "3d489e76-c655-4edc-c5e5-f71b017ed0db"
      },
      "execution_count": null,
      "outputs": [
        {
          "output_type": "stream",
          "name": "stdout",
          "text": [
            "Model: \"sequential_4\"\n",
            "_________________________________________________________________\n",
            " Layer (type)                Output Shape              Param #   \n",
            "=================================================================\n",
            " dense_8 (Dense)             (None, 512)               401920    \n",
            "                                                                 \n",
            " dense_9 (Dense)             (None, 10)                5130      \n",
            "                                                                 \n",
            "=================================================================\n",
            "Total params: 407,050\n",
            "Trainable params: 407,050\n",
            "Non-trainable params: 0\n",
            "_________________________________________________________________\n"
          ]
        }
      ]
    },
    {
      "cell_type": "code",
      "source": [
        "X= test_images\n",
        "Y= test_labels"
      ],
      "metadata": {
        "id": "WGqo6uuPVojW"
      },
      "execution_count": null,
      "outputs": []
    },
    {
      "cell_type": "code",
      "source": [
        "train_images= train_images.reshape(60000,28*28)\n",
        "train_images = train_images.astype('float32')/255\n",
        "test_images = test_images.reshape(10000,28*28)\n",
        "test_images = test_images.astype('float32')/255"
      ],
      "metadata": {
        "id": "zyMd6WgdWPFf"
      },
      "execution_count": null,
      "outputs": []
    },
    {
      "cell_type": "code",
      "source": [
        "from keras.utils import to_categorical\n",
        "\n",
        "train_labels = to_categorical(train_labels,10)\n",
        "test_labels = to_categorical(test_labels,10)"
      ],
      "metadata": {
        "id": "yGqdzA1UX0du"
      },
      "execution_count": null,
      "outputs": []
    },
    {
      "cell_type": "code",
      "source": [
        "test_labels.shape"
      ],
      "metadata": {
        "colab": {
          "base_uri": "https://localhost:8080/"
        },
        "id": "VmF-gFlmYmbZ",
        "outputId": "3f27e784-70a0-4d39-ed2d-6909f4ec6cab"
      },
      "execution_count": null,
      "outputs": [
        {
          "output_type": "execute_result",
          "data": {
            "text/plain": [
              "(10000, 10)"
            ]
          },
          "metadata": {},
          "execution_count": 82
        }
      ]
    },
    {
      "cell_type": "code",
      "source": [
        "train_labels.shape"
      ],
      "metadata": {
        "colab": {
          "base_uri": "https://localhost:8080/"
        },
        "id": "3MBAeGr6YrS5",
        "outputId": "2c8f5d4e-8d24-4dff-a021-b635e04732d2"
      },
      "execution_count": null,
      "outputs": [
        {
          "output_type": "execute_result",
          "data": {
            "text/plain": [
              "(60000, 10)"
            ]
          },
          "metadata": {},
          "execution_count": 83
        }
      ]
    },
    {
      "cell_type": "code",
      "source": [
        "model.compile(optimizer = \"rmsprop\", loss = 'categorical_crossentropy', metrics= 'accuracy')\n",
        "model.fit(train_images, train_labels, epochs = 10, batch_size = 128)\n",
        "test_loss, test_acc = model.evaluate(test_images, test_labels)\n",
        "print(\"loss;\" , test_loss)\n",
        "print(\"Accuracy:\", test_acc)"
      ],
      "metadata": {
        "colab": {
          "base_uri": "https://localhost:8080/"
        },
        "id": "arBck3t0Yw8n",
        "outputId": "52bd57e5-44e9-4435-9449-08a9dbb7f21e"
      },
      "execution_count": null,
      "outputs": [
        {
          "output_type": "stream",
          "name": "stdout",
          "text": [
            "Epoch 1/10\n",
            "469/469 [==============================] - 6s 12ms/step - loss: 0.2628 - accuracy: 0.9241\n",
            "Epoch 2/10\n",
            "469/469 [==============================] - 4s 9ms/step - loss: 0.1071 - accuracy: 0.9686\n",
            "Epoch 3/10\n",
            "469/469 [==============================] - 4s 10ms/step - loss: 0.0704 - accuracy: 0.9788\n",
            "Epoch 4/10\n",
            "469/469 [==============================] - 5s 12ms/step - loss: 0.0513 - accuracy: 0.9846\n",
            "Epoch 5/10\n",
            "469/469 [==============================] - 4s 10ms/step - loss: 0.0389 - accuracy: 0.9882\n",
            "Epoch 6/10\n",
            "469/469 [==============================] - 5s 11ms/step - loss: 0.0294 - accuracy: 0.9916\n",
            "Epoch 7/10\n",
            "469/469 [==============================] - 5s 11ms/step - loss: 0.0225 - accuracy: 0.9932\n",
            "Epoch 8/10\n",
            "469/469 [==============================] - 4s 9ms/step - loss: 0.0173 - accuracy: 0.9952\n",
            "Epoch 9/10\n",
            "469/469 [==============================] - 5s 12ms/step - loss: 0.0128 - accuracy: 0.9968\n",
            "Epoch 10/10\n",
            "469/469 [==============================] - 5s 11ms/step - loss: 0.0097 - accuracy: 0.9978\n",
            "313/313 [==============================] - 1s 3ms/step - loss: 0.0701 - accuracy: 0.9812\n",
            "loss; 0.07009166479110718\n",
            "Accuracy: 0.9811999797821045\n"
          ]
        }
      ]
    },
    {
      "cell_type": "code",
      "source": [
        "digit = X[2612]\n",
        "plt. imshow(digit, cmap = plt.cm.binary)\n",
        "plt.show()\n",
        "print('so:', Y[2612])"
      ],
      "metadata": {
        "colab": {
          "base_uri": "https://localhost:8080/",
          "height": 447
        },
        "id": "MQzwx_5ZaVo3",
        "outputId": "c2ed9674-4bcd-4881-8590-2700a8f89904"
      },
      "execution_count": null,
      "outputs": [
        {
          "output_type": "display_data",
          "data": {
            "text/plain": [
              "<Figure size 640x480 with 1 Axes>"
            ],
            "image/png": "[encoded data removed]"
          },
          "metadata": {}
        },
        {
          "output_type": "stream",
          "name": "stdout",
          "text": [
            "so: 1\n"
          ]
        }
      ]
    },
    {
      "cell_type": "code",
      "source": [
        "x_pred = X[2612].reshape(1,28*28)\n",
        "x_pred = x_pred.astype('float32')/255\n",
        "\n",
        "y_pred = model.predict(x_pred)\n",
        "print(y_pred)"
      ],
      "metadata": {
        "colab": {
          "base_uri": "https://localhost:8080/"
        },
        "id": "x3qAJLXDc0St",
        "outputId": "ec484fa6-4222-410b-be51-736b03c1323b"
      },
      "execution_count": null,
      "outputs": [
        {
          "output_type": "stream",
          "name": "stdout",
          "text": [
            "1/1 [==============================] - 0s 54ms/step\n",
            "[[1.5025007e-12 9.9998283e-01 1.8421108e-08 2.2112509e-07 1.5707036e-06\n",
            "  1.6446904e-09 1.4491625e-10 2.4863835e-08 1.5304026e-05 2.2996254e-08]]\n"
          ]
        }
      ]
    },
    {
      "cell_type": "code",
      "source": [
        "import numpy as np\n",
        "\n",
        "np.argmax(model.predict(x_pred), axis = 1)"
      ],
      "metadata": {
        "colab": {
          "base_uri": "https://localhost:8080/"
        },
        "id": "WKvgsKPMd8QO",
        "outputId": "3ad59729-70e3-4c20-bfb0-a249b79b55af"
      },
      "execution_count": null,
      "outputs": [
        {
          "output_type": "stream",
          "name": "stdout",
          "text": [
            "1/1 [==============================] - 0s 21ms/step\n"
          ]
        },
        {
          "output_type": "execute_result",
          "data": {
            "text/plain": [
              "array([1])"
            ]
          },
          "metadata": {},
          "execution_count": 87
        }
      ]
    },
    {
      "cell_type": "code",
      "source": [
        "model.save('test1.h5') #sau nay goi model10 = load_model('test1.h5')///// model10.predict()"
      ],
      "metadata": {
        "id": "Mt0agJsOg8_w"
      },
      "execution_count": null,
      "outputs": []
    }
  ]
}