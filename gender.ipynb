{
  "nbformat": 4,
  "nbformat_minor": 0,
  "metadata": {
    "colab": {
      "provenance": [],
      "gpuType": "T4",
      "mount_file_id": "1cvMjRf8VgdZW-ewOgQJxR3b5xeEYriT5",
      "authorship_tag": "ABX9TyOxvQm4YbLrTi2xgeziKbRe",
      "include_colab_link": true
    },
    "kernelspec": {
      "name": "python3",
      "display_name": "Python 3"
    },
    "language_info": {
      "name": "python"
    },
    "accelerator": "GPU",
    "gpuClass": "standard"
  },
  "cells": [
    {
      "cell_type": "markdown",
      "metadata": {
        "id": "view-in-github",
        "colab_type": "text"
      },
      "source": [
        "<a href=\"https://colab.research.google.com/github/pdthang26/Artificial-Intellignece-ST7-1234/blob/main/gender.ipynb\" target=\"_parent\"><img src=\"https://colab.research.google.com/assets/colab-badge.svg\" alt=\"Open In Colab\"/></a>"
      ]
    },
    {
      "cell_type": "code",
      "execution_count": null,
      "metadata": {
        "colab": {
          "base_uri": "https://localhost:8080/"
        },
        "id": "o66cEXUTQsox",
        "outputId": "a4937c49-a0f8-4c0b-a603-5e4a20ae9a5d"
      },
      "outputs": [
        {
          "output_type": "stream",
          "name": "stdout",
          "text": [
            "Looking in indexes: https://pypi.org/simple, https://us-python.pkg.dev/colab-wheels/public/simple/\n",
            "Requirement already satisfied: opencv-python in /usr/local/lib/python3.10/dist-packages (4.7.0.72)\n",
            "Requirement already satisfied: numpy>=1.21.2 in /usr/local/lib/python3.10/dist-packages (from opencv-python) (1.22.4)\n"
          ]
        }
      ],
      "source": [
        "pip install opencv-python"
      ]
    },
    {
      "cell_type": "code",
      "source": [
        "from numpy.ma import masked_invalid\n",
        "import cv2\n",
        "import os\n",
        "\n",
        "def crop_and_resize_face(image):\n",
        "    # Tạo bộ phân loại khuôn mặt\n",
        "    face_cascade = cv2.CascadeClassifier('/content/drive/MyDrive/AI/haarcascade_frontalface_default.xml')\n",
        "    picture = cv2.imread(image)\n",
        "\n",
        "    # Chuyển đổi ảnh đầu vào sang ảnh xám\n",
        "    gray_image = cv2.cvtColor(picture, cv2.COLOR_BGR2GRAY)\n",
        "\n",
        "    # Phát hiện khuôn mặt\n",
        "    faces = face_cascade.detectMultiScale(gray_image, scaleFactor=1.1, minNeighbors=5, minSize=(30, 30))\n",
        "\n",
        "    # Với mỗi khuôn mặt được phát hiện\n",
        "    for (x, y, w, h) in faces:\n",
        "        # Cắt khuôn mặt từ ảnh gốc\n",
        "        face_image = picture[y:y+h, x:x+w]\n",
        "\n",
        "        # Resize khuôn mặt với độ phân giải 70x70\n",
        "        resized_face = cv2.resize(face_image, (30, 30), interpolation = cv2.INTER_AREA)\n",
        "        # Trả về ảnh khuôn mặt đã được resize\n",
        "        return resized_face"
      ],
      "metadata": {
        "id": "_JnwG9E7VwXi"
      },
      "execution_count": null,
      "outputs": []
    },
    {
      "cell_type": "code",
      "source": [
        "def crop_faces(input_dir, output_dir):\n",
        "    # Tạo bộ phân loại khuôn mặt\n",
        "    face_cascade = cv2.CascadeClassifier('/content/drive/MyDrive/AI/haarcascade_frontalface_default.xml')\n",
        "\n",
        "    # Lặp qua tất cả các file ảnh trong thư mục đầu vào\n",
        "    for filename in os.listdir(input_dir):\n",
        "        # Đọc ảnh đầu vào\n",
        "        image = cv2.imread(os.path.join(input_dir, filename))\n",
        "\n",
        "        # Chuyển đổi ảnh đầu vào sang ảnh xám\n",
        "        gray_image = cv2.cvtColor(image, cv2.COLOR_BGR2GRAY)\n",
        "\n",
        "        # Phát hiện khuôn mặt\n",
        "        faces = face_cascade.detectMultiScale(gray_image, scaleFactor=1.1, minNeighbors=5, minSize=(30, 30))\n",
        "\n",
        "        # Với mỗi khuôn mặt được phát hiện\n",
        "        for (x, y, w, h) in faces:\n",
        "            # Cắt khuôn mặt từ ảnh gốc\n",
        "            face_image = image[y:y+h, x:x+w]\n",
        "\n",
        "            # Tạo tên file đầu ra\n",
        "            output_filename = os.path.splitext(filename)[0] + '_' + str(x) + str(y) + '.jpg'\n",
        "            output_path = os.path.join(output_dir, output_filename)\n",
        "\n",
        "            # Ghi khuôn mặt vào file đầu ra\n",
        "            resized_face = cv2.resize(face_image, (30, 30), interpolation = cv2.INTER_AREA)\n",
        "            cv2.imwrite(output_path, face_image)"
      ],
      "metadata": {
        "id": "PYkSBqmtIae9"
      },
      "execution_count": null,
      "outputs": []
    },
    {
      "cell_type": "code",
      "source": [
        "crop_faces(\"/content/drive/MyDrive/AI/nu/\", \"/content/drive/MyDrive/AI/trainning\")\n",
        "crop_faces(\"/content/drive/MyDrive/AI/nam/\", \"/content/drive/MyDrive/AI/trainning\")"
      ],
      "metadata": {
        "id": "314rkUuWIlSx"
      },
      "execution_count": null,
      "outputs": []
    },
    {
      "cell_type": "code",
      "source": [
        "import cv2\n",
        "from os import listdir\n",
        "from numpy import asarray\n",
        "from numpy import save\n",
        "from keras.utils import load_img, img_to_array\n",
        "folder = '/content/drive/MyDrive/AI/trainning/'\n",
        "photos, labels = list(),list()\n",
        "for file in listdir(folder):\n",
        "  output = 0.0\n",
        "  if file.startswith('man'):\n",
        "    output = 0\n",
        "  if file.startswith('women'):\n",
        "    output = 1\n",
        "  img = load_img(folder + file, target_size= (30,30))\n",
        "  photo = img_to_array(img)\n",
        "  photos.append(photo)\n",
        "  labels.append(output)\n",
        "photos=asarray(photos)\n",
        "labels=asarray(labels)\n",
        "print(photos.shape, labels.shape)\n",
        "save('/content/drive/MyDrive/AI/gender_photos.npy',photos)\n",
        "save('/content/drive/MyDrive/AI/gender_labels.npy',labels)"
      ],
      "metadata": {
        "colab": {
          "base_uri": "https://localhost:8080/"
        },
        "id": "oTyGL6V0Q2YV",
        "outputId": "b31a2bfa-133a-4a1d-fe14-0a0e47e64f2b"
      },
      "execution_count": null,
      "outputs": [
        {
          "output_type": "stream",
          "name": "stdout",
          "text": [
            "(91, 30, 30, 3) (91,)\n"
          ]
        }
      ]
    },
    {
      "cell_type": "code",
      "source": [
        "import numpy as np\n",
        "X = np.load('/content/drive/MyDrive/AI/gender_photos.npy')\n",
        "y = np.load('/content/drive/MyDrive/AI/gender_labels.npy')\n",
        "from sklearn.model_selection import train_test_split\n",
        "x_train, x_test, y_train, y_test = train_test_split(X, y, test_size = 0.1, random_state = 1)"
      ],
      "metadata": {
        "id": "cTZXnWe77_d8"
      },
      "execution_count": null,
      "outputs": []
    },
    {
      "cell_type": "code",
      "source": [
        "print(x_train.shape)\n",
        "print(y_train.shape)\n",
        "print(x_test.shape)\n",
        "print(y_test.shape)"
      ],
      "metadata": {
        "colab": {
          "base_uri": "https://localhost:8080/"
        },
        "id": "1XYJp08gK3ms",
        "outputId": "32829fc9-a4b0-4394-c664-8763765d69cc"
      },
      "execution_count": null,
      "outputs": [
        {
          "output_type": "stream",
          "name": "stdout",
          "text": [
            "(81, 30, 30, 3)\n",
            "(81,)\n",
            "(10, 30, 30, 3)\n",
            "(10,)\n"
          ]
        }
      ]
    },
    {
      "cell_type": "code",
      "source": [
        "x_train = x_train.astype('float32')/255\n",
        "x_test = x_test.astype('float32')/255\n",
        "from keras.utils import to_categorical\n",
        "y_train = to_categorical(y_train,2)\n",
        "y_test = to_categorical(y_test,2)"
      ],
      "metadata": {
        "id": "jCFaKwVlK6on"
      },
      "execution_count": null,
      "outputs": []
    },
    {
      "cell_type": "code",
      "source": [
        "from keras.models import Sequential\n",
        "from keras.layers import Dense,Dropout,Flatten,Conv2D,MaxPooling2D,Normalization,LeakyReLU\n",
        "from keras.optimizers import Adam\n",
        "#32 lần\n",
        "model = Sequential()\n",
        "model.add(Conv2D(32,kernel_size = (3,3),activation = 'relu',input_shape=(30,30,3),padding='Same'))\n",
        "model.add(MaxPooling2D((2,2),padding='same'))\n",
        "model.add(Dropout(0.25))\n",
        "\n",
        "#64 lần\n",
        "model.add(Conv2D(64,(3,3),activation ='relu',padding ='same'))\n",
        "model.add(MaxPooling2D((2,2),padding='same'))\n",
        "model.add(Dropout(0.25))\n",
        "\n",
        "#128 lần\n",
        "model.add(Conv2D(128,(3,3),activation ='relu',padding ='same'))\n",
        "model.add(MaxPooling2D((2,2),padding='same'))\n",
        "model.add(Dropout(0.25))\n",
        "\n",
        "#256 lần\n",
        "model.add(Conv2D(256,(3,3),activation ='relu',padding ='same'))\n",
        "model.add(MaxPooling2D((2,2),padding='same'))\n",
        "model.add(Dropout(0.25))\n",
        "#512 lần\n",
        "model.add(Conv2D(512,(3,3),activation ='relu',padding ='same'))\n",
        "model.add(MaxPooling2D((2,2),padding='same'))\n",
        "model.add(Dropout(0.25))\n",
        "#1080 lần\n",
        "model.add(Conv2D(1080,(3,3),activation ='relu',padding ='same'))\n",
        "model.add(MaxPooling2D((2,2),padding='same'))\n",
        "model.add(Dropout(0.25))\n",
        "\n",
        "model.add(Flatten())\n",
        "model.add(Dense(1080,activation='linear'))\n",
        "model.add(LeakyReLU(alpha=0.1))\n",
        "model.add(Dense(2,activation='softmax'))\n",
        "\n",
        "from keras.losses import categorical_crossentropy\n",
        "model.compile(loss='categorical_crossentropy',optimizer=Adam(),metrics=['accuracy'])\n",
        "model.summary()\n",
        "train = model.fit(x_train,y_train,epochs=128,batch_size=10,verbose=1)\n",
        "\n",
        "test_loss, test_acc = model.evaluate(x_test, y_test)\n",
        "print(\"loss;\" , test_loss)\n",
        "print(\"Accuracy:\", test_acc)"
      ],
      "metadata": {
        "colab": {
          "base_uri": "https://localhost:8080/"
        },
        "id": "_7C55juoK_Ff",
        "outputId": "a737d79d-5eb6-4c61-d341-9cee30e70e31"
      },
      "execution_count": null,
      "outputs": [
        {
          "output_type": "stream",
          "name": "stdout",
          "text": [
            "Model: \"sequential_9\"\n",
            "_________________________________________________________________\n",
            " Layer (type)                Output Shape              Param #   \n",
            "=================================================================\n",
            " conv2d_54 (Conv2D)          (None, 30, 30, 32)        896       \n",
            "                                                                 \n",
            " max_pooling2d_54 (MaxPoolin  (None, 15, 15, 32)       0         \n",
            " g2D)                                                            \n",
            "                                                                 \n",
            " dropout_54 (Dropout)        (None, 15, 15, 32)        0         \n",
            "                                                                 \n",
            " conv2d_55 (Conv2D)          (None, 15, 15, 64)        18496     \n",
            "                                                                 \n",
            " max_pooling2d_55 (MaxPoolin  (None, 8, 8, 64)         0         \n",
            " g2D)                                                            \n",
            "                                                                 \n",
            " dropout_55 (Dropout)        (None, 8, 8, 64)          0         \n",
            "                                                                 \n",
            " conv2d_56 (Conv2D)          (None, 8, 8, 128)         73856     \n",
            "                                                                 \n",
            " max_pooling2d_56 (MaxPoolin  (None, 4, 4, 128)        0         \n",
            " g2D)                                                            \n",
            "                                                                 \n",
            " dropout_56 (Dropout)        (None, 4, 4, 128)         0         \n",
            "                                                                 \n",
            " conv2d_57 (Conv2D)          (None, 4, 4, 256)         295168    \n",
            "                                                                 \n",
            " max_pooling2d_57 (MaxPoolin  (None, 2, 2, 256)        0         \n",
            " g2D)                                                            \n",
            "                                                                 \n",
            " dropout_57 (Dropout)        (None, 2, 2, 256)         0         \n",
            "                                                                 \n",
            " conv2d_58 (Conv2D)          (None, 2, 2, 512)         1180160   \n",
            "                                                                 \n",
            " max_pooling2d_58 (MaxPoolin  (None, 1, 1, 512)        0         \n",
            " g2D)                                                            \n",
            "                                                                 \n",
            " dropout_58 (Dropout)        (None, 1, 1, 512)         0         \n",
            "                                                                 \n",
            " conv2d_59 (Conv2D)          (None, 1, 1, 1080)        4977720   \n",
            "                                                                 \n",
            " max_pooling2d_59 (MaxPoolin  (None, 1, 1, 1080)       0         \n",
            " g2D)                                                            \n",
            "                                                                 \n",
            " dropout_59 (Dropout)        (None, 1, 1, 1080)        0         \n",
            "                                                                 \n",
            " flatten_9 (Flatten)         (None, 1080)              0         \n",
            "                                                                 \n",
            " dense_18 (Dense)            (None, 1080)              1167480   \n",
            "                                                                 \n",
            " leaky_re_lu_9 (LeakyReLU)   (None, 1080)              0         \n",
            "                                                                 \n",
            " dense_19 (Dense)            (None, 2)                 2162      \n",
            "                                                                 \n",
            "=================================================================\n",
            "Total params: 7,715,938\n",
            "Trainable params: 7,715,938\n",
            "Non-trainable params: 0\n",
            "_________________________________________________________________\n",
            "Epoch 1/128\n",
            "9/9 [==============================] - 2s 14ms/step - loss: 0.7240 - accuracy: 0.4815\n",
            "Epoch 2/128\n",
            "9/9 [==============================] - 0s 13ms/step - loss: 0.6931 - accuracy: 0.4938\n",
            "Epoch 3/128\n",
            "9/9 [==============================] - 0s 12ms/step - loss: 0.6909 - accuracy: 0.5309\n",
            "Epoch 4/128\n",
            "9/9 [==============================] - 0s 11ms/step - loss: 0.6930 - accuracy: 0.5309\n",
            "Epoch 5/128\n",
            "9/9 [==============================] - 0s 10ms/step - loss: 0.6930 - accuracy: 0.5309\n",
            "Epoch 6/128\n",
            "9/9 [==============================] - 0s 10ms/step - loss: 0.6914 - accuracy: 0.5309\n",
            "Epoch 7/128\n",
            "9/9 [==============================] - 0s 11ms/step - loss: 0.6901 - accuracy: 0.5309\n",
            "Epoch 8/128\n",
            "9/9 [==============================] - 0s 10ms/step - loss: 0.7021 - accuracy: 0.5309\n",
            "Epoch 9/128\n",
            "9/9 [==============================] - 0s 10ms/step - loss: 0.6912 - accuracy: 0.5309\n",
            "Epoch 10/128\n",
            "9/9 [==============================] - 0s 10ms/step - loss: 0.6914 - accuracy: 0.5309\n",
            "Epoch 11/128\n",
            "9/9 [==============================] - 0s 10ms/step - loss: 0.6923 - accuracy: 0.5309\n",
            "Epoch 12/128\n",
            "9/9 [==============================] - 0s 10ms/step - loss: 0.6935 - accuracy: 0.4815\n",
            "Epoch 13/128\n",
            "9/9 [==============================] - 0s 10ms/step - loss: 0.6937 - accuracy: 0.4444\n",
            "Epoch 14/128\n",
            "9/9 [==============================] - 0s 10ms/step - loss: 0.6926 - accuracy: 0.5309\n",
            "Epoch 15/128\n",
            "9/9 [==============================] - 0s 11ms/step - loss: 0.6919 - accuracy: 0.5309\n",
            "Epoch 16/128\n",
            "9/9 [==============================] - 0s 10ms/step - loss: 0.6919 - accuracy: 0.5309\n",
            "Epoch 17/128\n",
            "9/9 [==============================] - 0s 11ms/step - loss: 0.6905 - accuracy: 0.5309\n",
            "Epoch 18/128\n",
            "9/9 [==============================] - 0s 10ms/step - loss: 0.6901 - accuracy: 0.5309\n",
            "Epoch 19/128\n",
            "9/9 [==============================] - 0s 10ms/step - loss: 0.6931 - accuracy: 0.5309\n",
            "Epoch 20/128\n",
            "9/9 [==============================] - 0s 10ms/step - loss: 0.6920 - accuracy: 0.5309\n",
            "Epoch 21/128\n",
            "9/9 [==============================] - 0s 10ms/step - loss: 0.6897 - accuracy: 0.5309\n",
            "Epoch 22/128\n",
            "9/9 [==============================] - 0s 10ms/step - loss: 0.6922 - accuracy: 0.5309\n",
            "Epoch 23/128\n",
            "9/9 [==============================] - 0s 10ms/step - loss: 0.6925 - accuracy: 0.5309\n",
            "Epoch 24/128\n",
            "9/9 [==============================] - 0s 10ms/step - loss: 0.6920 - accuracy: 0.5309\n",
            "Epoch 25/128\n",
            "9/9 [==============================] - 0s 11ms/step - loss: 0.6916 - accuracy: 0.5309\n",
            "Epoch 26/128\n",
            "9/9 [==============================] - 0s 10ms/step - loss: 0.6924 - accuracy: 0.5309\n",
            "Epoch 27/128\n",
            "9/9 [==============================] - 0s 10ms/step - loss: 0.6917 - accuracy: 0.5309\n",
            "Epoch 28/128\n",
            "9/9 [==============================] - 0s 10ms/step - loss: 0.6925 - accuracy: 0.5309\n",
            "Epoch 29/128\n",
            "9/9 [==============================] - 0s 10ms/step - loss: 0.6914 - accuracy: 0.5309\n",
            "Epoch 30/128\n",
            "9/9 [==============================] - 0s 10ms/step - loss: 0.6916 - accuracy: 0.5309\n",
            "Epoch 31/128\n",
            "9/9 [==============================] - 0s 10ms/step - loss: 0.6909 - accuracy: 0.5309\n",
            "Epoch 32/128\n",
            "9/9 [==============================] - 0s 10ms/step - loss: 0.6910 - accuracy: 0.5309\n",
            "Epoch 33/128\n",
            "9/9 [==============================] - 0s 11ms/step - loss: 0.6930 - accuracy: 0.5309\n",
            "Epoch 34/128\n",
            "9/9 [==============================] - 0s 10ms/step - loss: 0.6916 - accuracy: 0.5309\n",
            "Epoch 35/128\n",
            "9/9 [==============================] - 0s 10ms/step - loss: 0.6927 - accuracy: 0.5309\n",
            "Epoch 36/128\n",
            "9/9 [==============================] - 0s 10ms/step - loss: 0.6922 - accuracy: 0.5309\n",
            "Epoch 37/128\n",
            "9/9 [==============================] - 0s 11ms/step - loss: 0.6920 - accuracy: 0.5309\n",
            "Epoch 38/128\n",
            "9/9 [==============================] - 0s 11ms/step - loss: 0.6922 - accuracy: 0.5309\n",
            "Epoch 39/128\n",
            "9/9 [==============================] - 0s 10ms/step - loss: 0.6920 - accuracy: 0.5309\n",
            "Epoch 40/128\n",
            "9/9 [==============================] - 0s 10ms/step - loss: 0.6914 - accuracy: 0.5309\n",
            "Epoch 41/128\n",
            "9/9 [==============================] - 0s 10ms/step - loss: 0.6909 - accuracy: 0.5309\n",
            "Epoch 42/128\n",
            "9/9 [==============================] - 0s 10ms/step - loss: 0.6918 - accuracy: 0.5309\n",
            "Epoch 43/128\n",
            "9/9 [==============================] - 0s 10ms/step - loss: 0.6917 - accuracy: 0.5309\n",
            "Epoch 44/128\n",
            "9/9 [==============================] - 0s 10ms/step - loss: 0.6917 - accuracy: 0.5309\n",
            "Epoch 45/128\n",
            "9/9 [==============================] - 0s 10ms/step - loss: 0.6924 - accuracy: 0.5309\n",
            "Epoch 46/128\n",
            "9/9 [==============================] - 0s 10ms/step - loss: 0.6949 - accuracy: 0.5309\n",
            "Epoch 47/128\n",
            "9/9 [==============================] - 0s 10ms/step - loss: 0.6948 - accuracy: 0.5309\n",
            "Epoch 48/128\n",
            "9/9 [==============================] - 0s 11ms/step - loss: 0.6954 - accuracy: 0.5309\n",
            "Epoch 49/128\n",
            "9/9 [==============================] - 0s 10ms/step - loss: 0.6911 - accuracy: 0.5309\n",
            "Epoch 50/128\n",
            "9/9 [==============================] - 0s 10ms/step - loss: 0.7078 - accuracy: 0.5185\n",
            "Epoch 51/128\n",
            "9/9 [==============================] - 0s 10ms/step - loss: 0.6928 - accuracy: 0.5309\n",
            "Epoch 52/128\n",
            "9/9 [==============================] - 0s 11ms/step - loss: 0.6913 - accuracy: 0.5309\n",
            "Epoch 53/128\n",
            "9/9 [==============================] - 0s 10ms/step - loss: 0.6909 - accuracy: 0.5432\n",
            "Epoch 54/128\n",
            "9/9 [==============================] - 0s 10ms/step - loss: 0.7019 - accuracy: 0.3827\n",
            "Epoch 55/128\n",
            "9/9 [==============================] - 0s 10ms/step - loss: 0.6955 - accuracy: 0.4815\n",
            "Epoch 56/128\n",
            "9/9 [==============================] - 0s 11ms/step - loss: 0.6891 - accuracy: 0.4691\n",
            "Epoch 57/128\n",
            "9/9 [==============================] - 0s 10ms/step - loss: 0.6859 - accuracy: 0.6420\n",
            "Epoch 58/128\n",
            "9/9 [==============================] - 0s 11ms/step - loss: 0.6774 - accuracy: 0.5062\n",
            "Epoch 59/128\n",
            "9/9 [==============================] - 0s 10ms/step - loss: 0.6200 - accuracy: 0.6173\n",
            "Epoch 60/128\n",
            "9/9 [==============================] - 0s 10ms/step - loss: 0.6478 - accuracy: 0.6049\n",
            "Epoch 61/128\n",
            "9/9 [==============================] - 0s 10ms/step - loss: 0.6383 - accuracy: 0.6173\n",
            "Epoch 62/128\n",
            "9/9 [==============================] - 0s 10ms/step - loss: 0.6341 - accuracy: 0.6543\n",
            "Epoch 63/128\n",
            "9/9 [==============================] - 0s 10ms/step - loss: 0.6274 - accuracy: 0.6667\n",
            "Epoch 64/128\n",
            "9/9 [==============================] - 0s 10ms/step - loss: 0.5881 - accuracy: 0.7284\n",
            "Epoch 65/128\n",
            "9/9 [==============================] - 0s 10ms/step - loss: 0.6388 - accuracy: 0.6173\n",
            "Epoch 66/128\n",
            "9/9 [==============================] - 0s 11ms/step - loss: 0.6434 - accuracy: 0.6420\n",
            "Epoch 67/128\n",
            "9/9 [==============================] - 0s 10ms/step - loss: 0.7217 - accuracy: 0.7037\n",
            "Epoch 68/128\n",
            "9/9 [==============================] - 0s 11ms/step - loss: 0.6341 - accuracy: 0.5926\n",
            "Epoch 69/128\n",
            "9/9 [==============================] - 0s 10ms/step - loss: 0.5647 - accuracy: 0.6790\n",
            "Epoch 70/128\n",
            "9/9 [==============================] - 0s 10ms/step - loss: 0.6095 - accuracy: 0.6790\n",
            "Epoch 71/128\n",
            "9/9 [==============================] - 0s 10ms/step - loss: 0.5218 - accuracy: 0.6914\n",
            "Epoch 72/128\n",
            "9/9 [==============================] - 0s 10ms/step - loss: 0.5219 - accuracy: 0.7160\n",
            "Epoch 73/128\n",
            "9/9 [==============================] - 0s 10ms/step - loss: 0.4819 - accuracy: 0.7407\n",
            "Epoch 74/128\n",
            "9/9 [==============================] - 0s 10ms/step - loss: 0.4664 - accuracy: 0.7531\n",
            "Epoch 75/128\n",
            "9/9 [==============================] - 0s 10ms/step - loss: 0.5464 - accuracy: 0.7407\n",
            "Epoch 76/128\n",
            "9/9 [==============================] - 0s 11ms/step - loss: 0.5130 - accuracy: 0.7160\n",
            "Epoch 77/128\n",
            "9/9 [==============================] - 0s 10ms/step - loss: 0.6000 - accuracy: 0.7037\n",
            "Epoch 78/128\n",
            "9/9 [==============================] - 0s 11ms/step - loss: 0.6207 - accuracy: 0.5802\n",
            "Epoch 79/128\n",
            "9/9 [==============================] - 0s 10ms/step - loss: 0.5541 - accuracy: 0.6667\n",
            "Epoch 80/128\n",
            "9/9 [==============================] - 0s 10ms/step - loss: 0.5194 - accuracy: 0.7037\n",
            "Epoch 81/128\n",
            "9/9 [==============================] - 0s 10ms/step - loss: 0.4856 - accuracy: 0.7284\n",
            "Epoch 82/128\n",
            "9/9 [==============================] - 0s 10ms/step - loss: 0.5864 - accuracy: 0.7160\n",
            "Epoch 83/128\n",
            "9/9 [==============================] - 0s 10ms/step - loss: 0.5504 - accuracy: 0.7407\n",
            "Epoch 84/128\n",
            "9/9 [==============================] - 0s 11ms/step - loss: 0.5212 - accuracy: 0.7407\n",
            "Epoch 85/128\n",
            "9/9 [==============================] - 0s 11ms/step - loss: 0.4224 - accuracy: 0.8395\n",
            "Epoch 86/128\n",
            "9/9 [==============================] - 0s 14ms/step - loss: 0.4820 - accuracy: 0.7037\n",
            "Epoch 87/128\n",
            "9/9 [==============================] - 0s 12ms/step - loss: 0.4302 - accuracy: 0.7778\n",
            "Epoch 88/128\n",
            "9/9 [==============================] - 0s 11ms/step - loss: 0.4206 - accuracy: 0.7531\n",
            "Epoch 89/128\n",
            "9/9 [==============================] - 0s 11ms/step - loss: 0.4048 - accuracy: 0.7778\n",
            "Epoch 90/128\n",
            "9/9 [==============================] - 0s 13ms/step - loss: 0.3998 - accuracy: 0.7531\n",
            "Epoch 91/128\n",
            "9/9 [==============================] - 0s 11ms/step - loss: 0.3923 - accuracy: 0.8272\n",
            "Epoch 92/128\n",
            "9/9 [==============================] - 0s 11ms/step - loss: 0.4063 - accuracy: 0.8395\n",
            "Epoch 93/128\n",
            "9/9 [==============================] - 0s 12ms/step - loss: 0.4183 - accuracy: 0.8395\n",
            "Epoch 94/128\n",
            "9/9 [==============================] - 0s 13ms/step - loss: 0.3151 - accuracy: 0.8519\n",
            "Epoch 95/128\n",
            "9/9 [==============================] - 0s 11ms/step - loss: 0.4382 - accuracy: 0.8148\n",
            "Epoch 96/128\n",
            "9/9 [==============================] - 0s 11ms/step - loss: 0.3723 - accuracy: 0.7778\n",
            "Epoch 97/128\n",
            "9/9 [==============================] - 0s 11ms/step - loss: 0.3010 - accuracy: 0.8765\n",
            "Epoch 98/128\n",
            "9/9 [==============================] - 0s 11ms/step - loss: 0.2879 - accuracy: 0.8519\n",
            "Epoch 99/128\n",
            "9/9 [==============================] - 0s 12ms/step - loss: 0.4120 - accuracy: 0.8148\n",
            "Epoch 100/128\n",
            "9/9 [==============================] - 0s 12ms/step - loss: 0.4410 - accuracy: 0.7778\n",
            "Epoch 101/128\n",
            "9/9 [==============================] - 0s 11ms/step - loss: 0.3050 - accuracy: 0.9259\n",
            "Epoch 102/128\n",
            "9/9 [==============================] - 0s 11ms/step - loss: 0.3680 - accuracy: 0.8395\n",
            "Epoch 103/128\n",
            "9/9 [==============================] - 0s 11ms/step - loss: 0.4227 - accuracy: 0.8272\n",
            "Epoch 104/128\n",
            "9/9 [==============================] - 0s 11ms/step - loss: 0.5844 - accuracy: 0.7037\n",
            "Epoch 105/128\n",
            "9/9 [==============================] - 0s 12ms/step - loss: 0.4575 - accuracy: 0.7778\n",
            "Epoch 106/128\n",
            "9/9 [==============================] - 0s 11ms/step - loss: 0.6040 - accuracy: 0.7037\n",
            "Epoch 107/128\n",
            "9/9 [==============================] - 0s 11ms/step - loss: 0.5418 - accuracy: 0.7160\n",
            "Epoch 108/128\n",
            "9/9 [==============================] - 0s 11ms/step - loss: 0.4185 - accuracy: 0.7531\n",
            "Epoch 109/128\n",
            "9/9 [==============================] - 0s 11ms/step - loss: 0.4147 - accuracy: 0.8025\n",
            "Epoch 110/128\n",
            "9/9 [==============================] - 0s 11ms/step - loss: 0.3183 - accuracy: 0.8025\n",
            "Epoch 111/128\n",
            "9/9 [==============================] - 0s 12ms/step - loss: 0.3549 - accuracy: 0.8395\n",
            "Epoch 112/128\n",
            "9/9 [==============================] - 0s 11ms/step - loss: 0.3228 - accuracy: 0.8519\n",
            "Epoch 113/128\n",
            "9/9 [==============================] - 0s 10ms/step - loss: 0.2684 - accuracy: 0.8519\n",
            "Epoch 114/128\n",
            "9/9 [==============================] - 0s 10ms/step - loss: 0.3499 - accuracy: 0.8395\n",
            "Epoch 115/128\n",
            "9/9 [==============================] - 0s 11ms/step - loss: 0.2625 - accuracy: 0.9012\n",
            "Epoch 116/128\n",
            "9/9 [==============================] - 0s 11ms/step - loss: 0.2349 - accuracy: 0.8272\n",
            "Epoch 117/128\n",
            "9/9 [==============================] - 0s 10ms/step - loss: 0.2919 - accuracy: 0.8765\n",
            "Epoch 118/128\n",
            "9/9 [==============================] - 0s 11ms/step - loss: 0.2136 - accuracy: 0.8889\n",
            "Epoch 119/128\n",
            "9/9 [==============================] - 0s 11ms/step - loss: 0.3261 - accuracy: 0.8148\n",
            "Epoch 120/128\n",
            "9/9 [==============================] - 0s 12ms/step - loss: 0.2459 - accuracy: 0.8889\n",
            "Epoch 121/128\n",
            "9/9 [==============================] - 0s 12ms/step - loss: 0.3042 - accuracy: 0.8765\n",
            "Epoch 122/128\n",
            "9/9 [==============================] - 0s 12ms/step - loss: 0.4000 - accuracy: 0.8148\n",
            "Epoch 123/128\n",
            "9/9 [==============================] - 0s 12ms/step - loss: 0.4468 - accuracy: 0.8025\n",
            "Epoch 124/128\n",
            "9/9 [==============================] - 0s 11ms/step - loss: 0.3018 - accuracy: 0.8272\n",
            "Epoch 125/128\n",
            "9/9 [==============================] - 0s 10ms/step - loss: 0.3500 - accuracy: 0.8025\n",
            "Epoch 126/128\n",
            "9/9 [==============================] - 0s 11ms/step - loss: 0.2762 - accuracy: 0.8765\n",
            "Epoch 127/128\n",
            "9/9 [==============================] - 0s 10ms/step - loss: 0.2267 - accuracy: 0.8889\n",
            "Epoch 128/128\n",
            "9/9 [==============================] - 0s 10ms/step - loss: 0.2435 - accuracy: 0.8395\n",
            "1/1 [==============================] - 0s 194ms/step - loss: 0.2813 - accuracy: 0.9000\n",
            "loss; 0.28127604722976685\n",
            "Accuracy: 0.8999999761581421\n"
          ]
        }
      ]
    },
    {
      "cell_type": "code",
      "source": [
        "import matplotlib.pyplot as plt\n",
        "from keras.utils import load_img\n",
        "from keras.utils.image_utils import img_to_array\n",
        "import numpy as np\n",
        "vat = {0: 'man',1:'women'}\n",
        "img = load_img(\"/content/drive/MyDrive/unscale.jpg\",target_size= (30,30))\n",
        "plt.imshow(img)\n",
        "img = img_to_array(img)\n",
        "img= img.reshape(1,30,30,3)\n",
        "img = img.astype('float32')\n",
        "img =img/255\n",
        "result  = np.argmax(model.predict(img),axis=1)\n",
        "vat[result[0]]"
      ],
      "metadata": {
        "colab": {
          "base_uri": "https://localhost:8080/",
          "height": 466
        },
        "id": "rjrNsVzNLDWO",
        "outputId": "3e3b5e45-6439-4be3-da94-059869fa3f9a"
      },
      "execution_count": null,
      "outputs": [
        {
          "output_type": "stream",
          "name": "stdout",
          "text": [
            "1/1 [==============================] - 0s 160ms/step\n"
          ]
        },
        {
          "output_type": "execute_result",
          "data": {
            "text/plain": [
              "'man'"
            ],
            "application/vnd.google.colaboratory.intrinsic+json": {
              "type": "string"
            }
          },
          "metadata": {},
          "execution_count": 20
        },
        {
          "output_type": "display_data",
          "data": {
            "text/plain": [
              "<Figure size 640x480 with 1 Axes>"
            ],
            "image/png": "[encoded data removed]"
          },
          "metadata": {}
        }
      ]
    },
    {
      "cell_type": "code",
      "source": [
        "model.save(\"/content/drive/MyDrive/AI/gender.h5\")"
      ],
      "metadata": {
        "id": "1vyDJebbM9fD"
      },
      "execution_count": null,
      "outputs": []
    },
    {
      "cell_type": "code",
      "source": [],
      "metadata": {
        "id": "ZOvRetT-N9gL"
      },
      "execution_count": null,
      "outputs": []
    }
  ]
}