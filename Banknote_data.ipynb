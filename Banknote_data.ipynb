{
  "nbformat": 4,
  "nbformat_minor": 0,
  "metadata": {
    "colab": {
      "provenance": [],
      "mount_file_id": "1qim1TMDK0DyMnJKVjhuuS0a45IhJaoiE",
      "authorship_tag": "ABX9TyPTla1wVyJCFzFocFv2kpvb",
      "include_colab_link": true
    },
    "kernelspec": {
      "name": "python3",
      "display_name": "Python 3"
    },
    "language_info": {
      "name": "python"
    }
  },
  "cells": [
    {
      "cell_type": "markdown",
      "metadata": {
        "id": "view-in-github",
        "colab_type": "text"
      },
      "source": [
        "<a href=\"https://colab.research.google.com/github/pdthang26/Artificial-Intellignece-ST7-1234/blob/main/Banknote_data.ipynb\" target=\"_parent\"><img src=\"https://colab.research.google.com/assets/colab-badge.svg\" alt=\"Open In Colab\"/></a>"
      ]
    },
    {
      "cell_type": "code",
      "execution_count": 2,
      "metadata": {
        "id": "5QrYm2citW7d",
        "colab": {
          "base_uri": "https://localhost:8080/"
        },
        "outputId": "c2a0c74c-23ab-4988-b66c-c08df9658d4d"
      },
      "outputs": [
        {
          "output_type": "stream",
          "name": "stdout",
          "text": [
            "(511, 100, 300, 3) (511,)\n",
            "(60, 100, 300, 3) (60,)\n"
          ]
        }
      ],
      "source": [
        "from os import listdir\n",
        "from numpy import asarray\n",
        "from numpy import save\n",
        "from keras.utils import load_img, img_to_array\n",
        "folder1 = '/content/drive/MyDrive/AI/Banknotes_train/'\n",
        "photos1, labels1 = list(),list()\n",
        "for file in listdir(folder1):\n",
        "  output = 0.0\n",
        "  if file.startswith('5k '):\n",
        "    output = 0\n",
        "  if file.startswith('10k '):\n",
        "    output = 1\n",
        "  if file.startswith('20k '):\n",
        "    output = 2\n",
        "  if file.startswith('50k '):\n",
        "    output = 3\n",
        "  if file.startswith('100k '):\n",
        "    output = 4\n",
        "  if file.startswith('500k '):\n",
        "    output = 5\n",
        "  img = load_img(folder1 + file, target_size= (100,300))\n",
        "  photo = img_to_array(img)\n",
        "  photos1.append(photo)\n",
        "  labels1.append(output)\n",
        "photos1=asarray(photos1)\n",
        "labels1=asarray(labels1)\n",
        "print(photos1.shape, labels1.shape)\n",
        "save('/content/drive/MyDrive/AI/banknotes_photo_train.npy',photos1)\n",
        "save('/content/drive/MyDrive/AI/banknotes_labels_train.npy',labels1)\n",
        "\n",
        "folder = '/content/drive/MyDrive/AI/Banknotes_test/'\n",
        "photos, labels = list(),list()\n",
        "for file in listdir(folder):\n",
        "  output = 0.0\n",
        "  if file.startswith('5k '):\n",
        "    output = 0\n",
        "  if file.startswith('10k '):\n",
        "    output = 1\n",
        "  if file.startswith('20k '):\n",
        "    output = 2\n",
        "  if file.startswith('50k '):\n",
        "    output = 3\n",
        "  if file.startswith('100k '):\n",
        "    output = 4\n",
        "  if file.startswith('500k '):\n",
        "    output = 5\n",
        "  img = load_img(folder + file, target_size= (100,300))\n",
        "  photo = img_to_array(img)\n",
        "  photos.append(photo)\n",
        "  labels.append(output)\n",
        "photos=asarray(photos)\n",
        "labels=asarray(labels)\n",
        "print(photos.shape, labels.shape)\n",
        "save('/content/drive/MyDrive/AI/banknotes_photo_test.npy',photos)\n",
        "save('/content/drive/MyDrive/AI/banknotes_labels_test.npy',labels)"
      ]
    },
    {
      "cell_type": "code",
      "source": [],
      "metadata": {
        "id": "cM92IQVb67x3"
      },
      "execution_count": null,
      "outputs": []
    }
  ]
}