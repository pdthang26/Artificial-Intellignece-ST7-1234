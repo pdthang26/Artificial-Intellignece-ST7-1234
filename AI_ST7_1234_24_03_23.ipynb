{
  "nbformat": 4,
  "nbformat_minor": 0,
  "metadata": {
    "colab": {
      "provenance": [],
      "authorship_tag": "ABX9TyMcf2xvSXmJsc4Uh+tm5c7Q",
      "include_colab_link": true
    },
    "kernelspec": {
      "name": "python3",
      "display_name": "Python 3"
    },
    "language_info": {
      "name": "python"
    }
  },
  "cells": [
    {
      "cell_type": "markdown",
      "metadata": {
        "id": "view-in-github",
        "colab_type": "text"
      },
      "source": [
        "<a href=\"https://colab.research.google.com/github/pdthang26/Artificial-Intellignece-ST7-1234/blob/main/AI_ST7_1234_24_03_23.ipynb\" target=\"_parent\"><img src=\"https://colab.research.google.com/assets/colab-badge.svg\" alt=\"Open In Colab\"/></a>"
      ]
    },
    {
      "cell_type": "code",
      "execution_count": null,
      "metadata": {
        "colab": {
          "base_uri": "https://localhost:8080/"
        },
        "id": "5ijKfjh-Iy7I",
        "outputId": "25e23b08-f446-449e-9fa5-6d6509d07f1d"
      },
      "outputs": [
        {
          "output_type": "execute_result",
          "data": {
            "text/plain": [
              "1.0"
            ]
          },
          "metadata": {},
          "execution_count": 11
        }
      ],
      "source": [
        "from sklearn.linear_model import Perceptron\n",
        "x=[[0,0],[0,1],[0,1],[1,1]]\n",
        "y=[0,1,1,1]\n",
        "model = Perceptron()\n",
        "model.fit(x,y)\n",
        "model.score(x,y)"
      ]
    },
    {
      "cell_type": "code",
      "source": [
        "x1=[[0.5,0],[0,0.5],[0.6,0],[0,0.6],[-10,2],[0.1,1],[-0.3,4]]\n",
        "y1=model.predict(x1)\n",
        "y1"
      ],
      "metadata": {
        "colab": {
          "base_uri": "https://localhost:8080/"
        },
        "id": "39pQqAVWP_Er",
        "outputId": "586242fc-66d0-4400-de2e-c65aec7201a0"
      },
      "execution_count": null,
      "outputs": [
        {
          "output_type": "execute_result",
          "data": {
            "text/plain": [
              "array([0, 0, 0, 1, 0, 1, 1])"
            ]
          },
          "metadata": {},
          "execution_count": 12
        }
      ]
    },
    {
      "cell_type": "code",
      "source": [
        "from sklearn.linear_model import Perceptron\n",
        "import matplotlib.pyplot as plt\n",
        "\n",
        "x=[[0,0],[-0.4,0.2],[0.3,-0.5],[-0.1,1]]\n",
        "y=[1,1,0,0]\n",
        "model = Perceptron()\n",
        "model.fit(x,y)\n",
        "model.score(x,y)\n",
        "x1=[[0.5,0],[0,0.5],[0.6,0],[0,0.6],[-10,2],[0.1,1],[-0.3,4]]\n",
        "y1=model.predict(x1)\n",
        "print(y1)"
      ],
      "metadata": {
        "colab": {
          "base_uri": "https://localhost:8080/"
        },
        "id": "uxxOLgxOQ0ok",
        "outputId": "bf1ee1a4-2289-4c8a-da70-7ce500d71854"
      },
      "execution_count": null,
      "outputs": [
        {
          "output_type": "stream",
          "name": "stdout",
          "text": [
            "[0 0 0 0 1 0 0]\n"
          ]
        }
      ]
    },
    {
      "cell_type": "code",
      "source": [
        "from sklearn import datasets\n",
        "from sklearn.linear_model import Perceptron\n",
        "from sklearn.model_selection import train_test_split\n",
        "from sklearn.metrics import accuracy_score\n",
        "from sklearn.preprocessing import StandardScaler\n",
        "\n",
        "\n",
        "iris = datasets.load_iris()\n",
        "\n",
        "X = iris.data\n",
        "y = iris.target\n",
        "\n",
        "print(X[ :5])\n",
        "print(y[ :5])"
      ],
      "metadata": {
        "colab": {
          "base_uri": "https://localhost:8080/"
        },
        "id": "SIjM71gSQ2sF",
        "outputId": "5c921a36-1888-4652-dec0-fc454d40ced8"
      },
      "execution_count": null,
      "outputs": [
        {
          "output_type": "stream",
          "name": "stdout",
          "text": [
            "[[5.1 3.5 1.4 0.2]\n",
            " [4.9 3.  1.4 0.2]\n",
            " [4.7 3.2 1.3 0.2]\n",
            " [4.6 3.1 1.5 0.2]\n",
            " [5.  3.6 1.4 0.2]]\n",
            "[0 0 0 0 0]\n"
          ]
        }
      ]
    },
    {
      "cell_type": "code",
      "source": [
        "X_train, X_test, y_train, y_test = train_test_split(X,y,test_size=0.3)\n",
        "\n",
        "sc= StandardScaler()\n",
        "sc.fit(X_train)\n",
        "X_train_std = sc.transform(X_train)\n",
        "X_test_std = sc.transform(X_test)\n",
        "print(X_train[:5], X_train_std[:5])"
      ],
      "metadata": {
        "colab": {
          "base_uri": "https://localhost:8080/"
        },
        "id": "MAshlH_RSGgc",
        "outputId": "420d7614-79c3-47a1-eae0-698641578c9c"
      },
      "execution_count": null,
      "outputs": [
        {
          "output_type": "stream",
          "name": "stdout",
          "text": [
            "[[6.6 2.9 4.6 1.3]\n",
            " [5.7 3.8 1.7 0.3]\n",
            " [6.2 3.4 5.4 2.3]\n",
            " [7.6 3.  6.6 2.1]\n",
            " [5.5 3.5 1.3 0.2]] [[ 0.90158732 -0.45396244  0.47561059  0.11733583]\n",
            " [-0.2077877   1.81584977 -1.16081229 -1.17953382]\n",
            " [ 0.40853175  0.80704434  0.92703759  1.41420547]\n",
            " [ 2.13422623 -0.20176109  1.60417809  1.15483154]\n",
            " [-0.45431549  1.0592457  -1.38652579 -1.30922079]]\n"
          ]
        }
      ]
    },
    {
      "cell_type": "code",
      "source": [
        "model = Perceptron(max_iter=1000000, eta0 =0.01, random_state=0 )\n",
        "\n",
        "model.fit(X_train,y_train)\n",
        "y_pred = model.predict(X_test)\n",
        "print(y_pred)\n",
        "print(y_test)\n",
        "print(\"Accuracy when don't scale\", accuracy_score(y_test,y_pred))"
      ],
      "metadata": {
        "colab": {
          "base_uri": "https://localhost:8080/"
        },
        "id": "BL0o5_C8W9pq",
        "outputId": "4ca0313a-4682-4b01-ce0b-76480847823a"
      },
      "execution_count": null,
      "outputs": [
        {
          "output_type": "stream",
          "name": "stdout",
          "text": [
            "[2 2 0 0 2 1 1 1 0 2 0 0 0 1 2 2 1 2 0 1 2 1 1 0 1 0 2 2 0 1 0 2 2 0 2 2 1\n",
            " 1 1 0 0 2 1 2 0]\n",
            "[2 2 0 0 2 1 1 1 0 2 0 1 0 1 2 2 1 2 0 1 2 1 1 0 1 0 2 2 0 1 0 2 1 0 2 2 1\n",
            " 1 1 0 0 2 1 2 0]\n",
            "Accuracy when don't scale 0.9555555555555556\n"
          ]
        }
      ]
    },
    {
      "cell_type": "code",
      "source": [
        "model = Perceptron(max_iter=1000000, eta0 =0.01, random_state=0 )\n",
        "\n",
        "model.fit(X_train_std,y_train)\n",
        "y_pred = model.predict(X_test_std)\n",
        "print(y_pred)\n",
        "print(y_test)\n",
        "print(\"Accuracy when we scaled\", accuracy_score(y_test,y_pred))"
      ],
      "metadata": {
        "colab": {
          "base_uri": "https://localhost:8080/"
        },
        "id": "Id3XwFaBX9Ct",
        "outputId": "a20ecdd2-48cf-4350-bd57-f3c7a9d579eb"
      },
      "execution_count": null,
      "outputs": [
        {
          "output_type": "stream",
          "name": "stdout",
          "text": [
            "[1 2 0 0 2 1 1 1 0 2 0 1 0 1 2 2 1 1 0 1 1 1 1 0 1 0 1 1 0 1 0 1 1 0 1 2 1\n",
            " 1 1 0 0 2 1 1 0]\n",
            "[2 2 0 0 2 1 1 1 0 2 0 1 0 1 2 2 1 2 0 1 2 1 1 0 1 0 2 2 0 1 0 2 1 0 2 2 1\n",
            " 1 1 0 0 2 1 2 0]\n",
            "Accuracy when we scaled 0.8222222222222222\n"
          ]
        }
      ]
    },
    {
      "cell_type": "code",
      "source": [],
      "metadata": {
        "id": "ZQ_o7YMiZD51"
      },
      "execution_count": null,
      "outputs": []
    },
    {
      "cell_type": "code",
      "source": [],
      "metadata": {
        "id": "uCzAlV_3bkE3"
      },
      "execution_count": null,
      "outputs": []
    }
  ]
}